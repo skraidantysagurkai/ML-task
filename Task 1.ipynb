{
 "cells": [
  {
   "cell_type": "markdown",
   "id": "49fde142-09ce-4423-ace6-3fa743043073",
   "metadata": {},
   "source": [
    "# Task 1\n",
    "In this task i have to find 10 countries with the biggest gdp per capita growth in the last decade.\n",
    "As the IMF 2020 OCT dataset is from 2020 and most predictions start after 2019 i will use the period from 2009 to 2019."
   ]
  },
  {
   "cell_type": "code",
   "execution_count": 1,
   "id": "bd7c85a7-412b-4cf2-b18a-c2722112fa0c",
   "metadata": {},
   "outputs": [],
   "source": [
    "# Template code to load data\n",
    "import pandas as pd\n",
    "\n",
    "imf_data = pd.read_pickle(\"IMF_DATA.pkl\")\n",
    "\n",
    "# Purging data of not needed rows, keeping only rows that have GDP per capita data\n",
    "pattern = r'\\bGross domestic product per capita.*'\n",
    "gdp_data = imf_data[(imf_data['Subject Descriptor'].fillna('Missing')).str.contains(pattern)]\n",
    "\n",
    "# Note that the data in gdp_data has 3 different destinctions, i.e. there is GDP data with USD, PPP, and national curencies\n",
    "# For this task we will be only be using the data denoted in USD.\n",
    "usd_pattern = r'U.S. dollars'\n",
    "gdp_data = gdp_data[gdp_data['Units'].str.contains(usd_pattern)]"
   ]
  },
  {
   "cell_type": "code",
   "execution_count": 2,
   "id": "882371aa-99b1-4ad1-b29f-e6f1454b62c0",
   "metadata": {},
   "outputs": [],
   "source": [
    "# Here im thinking of removing the estimated data as it would interfere with calculating which countries gdp per capita\n",
    "# grew the most.\n",
    "def remove_predictions(row):\n",
    "    DATA_END_DATE = 2019\n",
    "    DATA_START_DATE = 2009\n",
    "    prediction_start_year = int(row['Estimates Start After'])\n",
    "\n",
    "    if prediction_start_year < DATA_START_DATE:\n",
    "        row.loc[DATA_START_DATE : DATA_END_DATE] = 0\n",
    "    elif prediction_start_year < DATA_END_DATE:\n",
    "        last_number_before_predictions = row[prediction_start_year]\n",
    "        row.loc[prediction_start_year + 1 : DATA_END_DATE] = last_number_before_predictions\n",
    "        \n",
    "    return row"
   ]
  },
  {
   "cell_type": "code",
   "execution_count": 3,
   "id": "5205dbee-f17b-466e-9505-e344866d3309",
   "metadata": {},
   "outputs": [],
   "source": [
    "# Here I set all the predictions to either the last actual data point or to 0\n",
    "final_gdp_data = gdp_data.apply(remove_predictions, axis = 1)\n",
    "final_gdp_data.set_index('Country', inplace = True)\n",
    "final_gdp_data = final_gdp_data.loc[:, 2009: 2020]"
   ]
  },
  {
   "cell_type": "code",
   "execution_count": 4,
   "id": "f6292987-e993-474e-8f6f-6db872ce680f",
   "metadata": {},
   "outputs": [],
   "source": [
    "# Functions to calculate change of GDP per capita in the period from start to end\n",
    "def change_of_gdp(row):\n",
    "    DATA_START_DATE = 2009\n",
    "    DATA_END_DATE = 2019\n",
    "\n",
    "    if row[DATA_START_DATE] == 0.0:\n",
    "        row['Period Growth Rate'] = 0.0\n",
    "    else:\n",
    "        row['Period Growth Rate'] = ((row[DATA_END_DATE] - row[DATA_START_DATE]) / row[DATA_START_DATE]) * 100\n",
    "    return row"
   ]
  },
  {
   "cell_type": "code",
   "execution_count": 5,
   "id": "7a515c9f-d19b-4fca-88c2-92d6a04e0779",
   "metadata": {},
   "outputs": [],
   "source": [
    "# Calculating GDP per capita growth rate\n",
    "final_gdp_data = final_gdp_data.apply(change_of_gdp, axis = 1) "
   ]
  },
  {
   "cell_type": "code",
   "execution_count": 6,
   "id": "ccb2a4f4-517e-4f03-a435-580c484d48dd",
   "metadata": {},
   "outputs": [
    {
     "name": "stdout",
     "output_type": "stream",
     "text": [
      "Country\n",
      "China         160.129732\n",
      "Mongolia      148.989541\n",
      "Lao P.D.R.    145.522083\n",
      "Moldova       135.802453\n",
      "Vietnam       130.544381\n",
      "Ethiopia      121.236349\n",
      "Nepal         116.221326\n",
      "Panama        110.212430\n",
      "Cambodia      104.757880\n",
      "Kenya         104.112348\n",
      "Name: Period Growth Rate, dtype: float64\n"
     ]
    }
   ],
   "source": [
    "# Here we finnaly found which countries GDP per capita grew the most in the period of 2009-2019 in percents\n",
    "top_10_countries = final_gdp_data.nlargest(10, 'Period Growth Rate')['Period Growth Rate']\n",
    "print(top_10_countries)"
   ]
  }
 ],
 "metadata": {
  "kernelspec": {
   "display_name": "Python 3 (ipykernel)",
   "language": "python",
   "name": "python3"
  },
  "language_info": {
   "codemirror_mode": {
    "name": "ipython",
    "version": 3
   },
   "file_extension": ".py",
   "mimetype": "text/x-python",
   "name": "python",
   "nbconvert_exporter": "python",
   "pygments_lexer": "ipython3",
   "version": "3.11.4"
  }
 },
 "nbformat": 4,
 "nbformat_minor": 5
}
