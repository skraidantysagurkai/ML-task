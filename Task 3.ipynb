{
 "cells": [
  {
   "cell_type": "markdown",
   "id": "a6d37a35-e414-4c14-b837-798448c4b5ec",
   "metadata": {},
   "source": [
    "# Task 3\n",
    "\\\n",
    "In this task we create GDP growth figures for every country in separate charts and save them as a PNG file\n"
   ]
  },
  {
   "cell_type": "markdown",
   "id": "ac5e0980-5c3c-4c80-b18c-50ab6bbf9320",
   "metadata": {},
   "source": [
    "First we read the data from the .pkl. Note: Please run the Setup script if not done yet."
   ]
  },
  {
   "cell_type": "code",
   "execution_count": 1,
   "id": "7c7a2f54-a0fa-4065-b2cb-4f9c1c8fa105",
   "metadata": {},
   "outputs": [],
   "source": [
    "import pandas as pd\n",
    "imf_data = pd.read_pickle(\"IMF_DATA.pkl\")"
   ]
  },
  {
   "cell_type": "markdown",
   "id": "ef11b228-1470-44ef-8e09-f3739f8dcf2e",
   "metadata": {},
   "source": [
    "Then we filter the data we want to keep.\n",
    "\\\n",
    "In this step we must be careful of the amount of data we leave as there are more then one Subject Descriptor that contains the gdp_pattern, however only 'Gross domestic product, current prices' is denominated in U.S. dollars and has 195 rows which fits are all the countries we need. \n",
    "\\\n",
    "**Note: GDP figures are scaled to billions of dollars**\n"
   ]
  },
  {
   "cell_type": "code",
   "execution_count": 2,
   "id": "854f60a0-f5af-46e1-beda-23b0ae9bcd8b",
   "metadata": {},
   "outputs": [],
   "source": [
    "gdp_pattern = 'Gross domestic product.(?!per capita).*'\n",
    "gdp_data = imf_data[imf_data['Subject Descriptor'].str.contains(gdp_pattern, regex = True)]\n",
    "\n",
    "usd_pattern = 'U.S. dollars'\n",
    "gdp_data = gdp_data[gdp_data['Units'].str.contains(usd_pattern, regex = True)]"
   ]
  },
  {
   "cell_type": "code",
   "execution_count": 3,
   "id": "d4fee16a-ab04-40d2-af8c-278c1d381f76",
   "metadata": {},
   "outputs": [],
   "source": [
    "# This function sets the predictions to 0\n",
    "def remove_predictions(row):\n",
    "    DATA_END_DATE = 2025\n",
    "    \n",
    "    prediction_start_year = int(row['Estimates Start After'])\n",
    "\n",
    "    if prediction_start_year < DATA_END_DATE:\n",
    "        row.loc[prediction_start_year + 1 : DATA_END_DATE] = 0\n",
    "        \n",
    "    return row\n",
    "\n",
    "# Applying the predictions removal function and filtering the data, we keep the 0 values for now\n",
    "gdp_data.set_index('Country', inplace = True)\n",
    "gdp_data = gdp_data.apply(remove_predictions, axis = 1)\n",
    "gdp_data = gdp_data.loc[:, 1980 : 2025]\n",
    "gdp_data = gdp_data.reset_index()"
   ]
  },
  {
   "cell_type": "markdown",
   "id": "0059f629-c48d-4ecd-a3d0-de6faef5bf5f",
   "metadata": {},
   "source": [
    "Next we create a folder for the graphs if one does not exist"
   ]
  },
  {
   "cell_type": "code",
   "execution_count": 4,
   "id": "c9f9ee5d-565c-4213-b223-d2495f7132cd",
   "metadata": {},
   "outputs": [],
   "source": [
    "import os\n",
    "FOLDER_NAME = 'IMF 2020 OCT GDP graphs'\n",
    "folderExists = os.path.exists(FOLDER_NAME)\n",
    "\n",
    "if not folderExists:\n",
    "    os.makedirs(FOLDER_NAME)"
   ]
  },
  {
   "cell_type": "markdown",
   "id": "c26c7c4f-1b9b-4d75-a33f-d4f9011c1e3a",
   "metadata": {},
   "source": [
    "I had some problem not plotting 0 values so i will just melt the gdp_data, remove the zero values and then pivot it, thus making nan values which matplotlib does not plot."
   ]
  },
  {
   "cell_type": "code",
   "execution_count": 5,
   "id": "52967c1f-4ce6-4cc3-a487-4d726e31e49f",
   "metadata": {},
   "outputs": [
    {
     "name": "stderr",
     "output_type": "stream",
     "text": [
      "/var/folders/80/d8cfy0f16hl333cl0t5pf9540000gn/T/ipykernel_55899/1396145529.py:5: FutureWarning: In a future version, the Index constructor will not infer numeric dtypes when passed object-dtype sequences (matching Series behavior)\n",
      "  gdp_data = gdp_data.pivot(index='Country', columns='Year', values='GDP')\n"
     ]
    }
   ],
   "source": [
    "gdp_data = gdp_data.melt(id_vars = 'Country', var_name='Year', value_name='GDP')\n",
    "row_indexes_to_be_dropped = gdp_data[gdp_data['GDP'] == 0].index\n",
    "gdp_data = gdp_data.drop(row_indexes_to_be_dropped)\n",
    "\n",
    "gdp_data = gdp_data.pivot(index='Country', columns='Year', values='GDP')"
   ]
  },
  {
   "cell_type": "markdown",
   "id": "4a7527d0-ae22-45c0-807b-1f69f79b25b0",
   "metadata": {},
   "source": [
    "Now we loop over the rows of the gdp data and firstly make a long dataframe out of the country and then making a linechart which is saved to the folder specified above"
   ]
  },
  {
   "cell_type": "code",
   "execution_count": 6,
   "id": "c1f32275-6b6e-4018-b057-2c0c248a8017",
   "metadata": {},
   "outputs": [
    {
     "name": "stdout",
     "output_type": "stream",
     "text": [
      "Graphs uploaded to IMF 2020 OCT GDP graphs\n"
     ]
    }
   ],
   "source": [
    "import seaborn as sns\n",
    "import matplotlib.pyplot as plt\n",
    "\n",
    "# Looping over every country and saving the graph into FOLDER_NAME\n",
    "for country, gdp in gdp_data.groupby(gdp_data.index):\n",
    "    \n",
    "    plt.figure()  # Create a new figure for each country\n",
    "    sns.lineplot(data=gdp.T)  # Transpose the data for plotting\n",
    "    plt.title(f\"GDP for {country} in billions\")\n",
    "    plt.xlabel('Year')\n",
    "    plt.ylabel('GDP in billions of U.S. dollars')\n",
    "    plt.legend(loc='best')\n",
    "    plt.grid(True)\n",
    "    \n",
    "    graph_name = '{}/{}_graph.png'.format(FOLDER_NAME, country)\n",
    "    \n",
    "    plt.savefig(graph_name)\n",
    "    plt.close()\n",
    "\n",
    "print(f\"Graphs uploaded to {FOLDER_NAME}\")"
   ]
  },
  {
   "cell_type": "markdown",
   "id": "c4c6f5d7-cfd6-4c74-8e4a-084f0a2002a0",
   "metadata": {},
   "source": [
    "Now the graphs are in the specified foler\\\n",
    "**Note: the graphs only show actual data and no predictions**"
   ]
  }
 ],
 "metadata": {
  "kernelspec": {
   "display_name": "Python 3 (ipykernel)",
   "language": "python",
   "name": "python3"
  },
  "language_info": {
   "codemirror_mode": {
    "name": "ipython",
    "version": 3
   },
   "file_extension": ".py",
   "mimetype": "text/x-python",
   "name": "python",
   "nbconvert_exporter": "python",
   "pygments_lexer": "ipython3",
   "version": "3.11.4"
  }
 },
 "nbformat": 4,
 "nbformat_minor": 5
}
