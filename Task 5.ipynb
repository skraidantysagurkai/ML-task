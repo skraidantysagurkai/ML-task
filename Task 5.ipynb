{
 "cells": [
  {
   "cell_type": "markdown",
   "id": "0a366a31-aba2-431a-a37e-82175ae5ee9d",
   "metadata": {},
   "source": [
    "# Task 5 \n",
    "\\\n",
    "In this task we have to find all data fields from the year 2015 that are present in most countries."
   ]
  },
  {
   "cell_type": "markdown",
   "id": "b8c306cf-533b-4431-8b17-3b99ceb1bdbf",
   "metadata": {},
   "source": [
    "First we load up the data from the .pkl file."
   ]
  },
  {
   "cell_type": "code",
   "execution_count": 1,
   "id": "a96657ed-2b18-404c-a831-1bca8c55982f",
   "metadata": {},
   "outputs": [],
   "source": [
    "import pandas as pd\n",
    "imf_data = pd.read_pickle(\"IMF_DATA.pkl\")"
   ]
  },
  {
   "cell_type": "markdown",
   "id": "e2a413a5-0a1e-4a94-9dcb-5410e84cd30f",
   "metadata": {},
   "source": [
    "Next we discard every row where the column '2015' = 0"
   ]
  },
  {
   "cell_type": "code",
   "execution_count": 2,
   "id": "cdb6b4c5-7549-454c-9971-b90dedb68a15",
   "metadata": {},
   "outputs": [],
   "source": [
    "data_from_2015 = imf_data[imf_data[2015] != 0]"
   ]
  },
  {
   "cell_type": "markdown",
   "id": "c49ea119-88b2-4fbd-9ab7-77f2380a9be8",
   "metadata": {},
   "source": [
    "The task is somewhat ambiqiuos, what constitutes most countries?\n",
    "\\\n",
    "For this task lets say that most countries constitutes 90% of the countries in the dataset. There will be a contant value that will be the threshold of term 'most' which you can change and play with.\n",
    "\\\n",
    "Also we will be only be checking the Subject Descriptor column, because it shows us what kind of data is in the row."
   ]
  },
  {
   "cell_type": "code",
   "execution_count": 3,
   "id": "24a9b123-0daa-43fb-9a0a-19ea3f919db3",
   "metadata": {},
   "outputs": [],
   "source": [
    "MOST_THRESHOLD = 90\n",
    "\n",
    "if MOST_THRESHOLD > 100:\n",
    "    raise CustomError(\"Most cannot be over 100% -_-\")\n",
    "elif MOST_THRESHOLD <= 0:\n",
    "    raise CustomError(\"Most cannot be under 0% -_-\")\n",
    "\n",
    "countries_to_be_present = (195 * MOST_THRESHOLD) / 100"
   ]
  },
  {
   "cell_type": "markdown",
   "id": "d0edbe24-1fe7-45ca-8493-af0adc38f8df",
   "metadata": {},
   "source": [
    "Here we make a list of subject descriptors we will check"
   ]
  },
  {
   "cell_type": "code",
   "execution_count": 9,
   "id": "2f1b11c3-02e7-4fee-b2e9-648add93a13e",
   "metadata": {},
   "outputs": [],
   "source": [
    "subjects_to_be_checked = data_from_2015['Subject Descriptor'].unique()"
   ]
  },
  {
   "cell_type": "markdown",
   "id": "4aa3ad9d-d64c-4788-8a82-a0263a2e63c4",
   "metadata": {},
   "source": [
    "Now we loop over the subjects_to_be_checked list and create a dataframe for a specific subject. Next we check the number of unique countries to the countries to be present and if it is more than it we leave it."
   ]
  },
  {
   "cell_type": "code",
   "execution_count": 5,
   "id": "e6dfd5d0-9c22-44f2-a65b-92f23d363449",
   "metadata": {},
   "outputs": [],
   "source": [
    "valid_subjects = []\n",
    "\n",
    "for subject in subjects_to_be_checked:\n",
    "    df = data_from_2015[data_from_2015['Subject Descriptor'] == subject] # Taking the data with the subject\n",
    "    \n",
    "    if len(df['Country'].unique()) >= countries_to_be_present:\n",
    "        valid_subjects.append(subject)"
   ]
  },
  {
   "cell_type": "markdown",
   "id": "a22b6700-93a9-49e7-93f4-c2c1db470ac6",
   "metadata": {},
   "source": [
    "We save our results to a series and print them"
   ]
  },
  {
   "cell_type": "code",
   "execution_count": 6,
   "id": "9dbf0b71-9beb-4e72-b571-a315fcdcd2d4",
   "metadata": {},
   "outputs": [],
   "source": [
    "result = pd.Series(valid_subjects)"
   ]
  },
  {
   "cell_type": "code",
   "execution_count": 7,
   "id": "4bc684fa-f44d-4ffe-b40d-34cb2368d0b8",
   "metadata": {},
   "outputs": [
    {
     "name": "stdout",
     "output_type": "stream",
     "text": [
      "0               Gross domestic product, constant prices\n",
      "1                Gross domestic product, current prices\n",
      "2                      Gross domestic product, deflator\n",
      "3     Gross domestic product per capita, constant pr...\n",
      "4     Gross domestic product per capita, current prices\n",
      "5     Gross domestic product based on purchasing-pow...\n",
      "6                           Implied PPP conversion rate\n",
      "7                    Inflation, average consumer prices\n",
      "8              Inflation, end of period consumer prices\n",
      "9               Volume of imports of goods and services\n",
      "10                           Volume of Imports of goods\n",
      "11              Volume of exports of goods and services\n",
      "12                           Volume of exports of goods\n",
      "13                                           Population\n",
      "14                           General government revenue\n",
      "15                 General government total expenditure\n",
      "16             General government net lending/borrowing\n",
      "17     General government primary net lending/borrowing\n",
      "18                        General government gross debt\n",
      "19    Gross domestic product corresponding to fiscal...\n",
      "20                              Current account balance\n",
      "dtype: object\n"
     ]
    }
   ],
   "source": [
    "print(result)"
   ]
  },
  {
   "cell_type": "markdown",
   "id": "d8563f7b-fcb3-4bb8-a43f-195d163902ef",
   "metadata": {},
   "source": [
    "Now we can see that 20 different subject descriptors are present in the 2015 data when the threshold is 90%"
   ]
  },
  {
   "cell_type": "code",
   "execution_count": null,
   "id": "6bff37bd-7e7f-44c1-9581-5c80c6abfa1e",
   "metadata": {},
   "outputs": [],
   "source": []
  }
 ],
 "metadata": {
  "kernelspec": {
   "display_name": "Python 3 (ipykernel)",
   "language": "python",
   "name": "python3"
  },
  "language_info": {
   "codemirror_mode": {
    "name": "ipython",
    "version": 3
   },
   "file_extension": ".py",
   "mimetype": "text/x-python",
   "name": "python",
   "nbconvert_exporter": "python",
   "pygments_lexer": "ipython3",
   "version": "3.11.4"
  }
 },
 "nbformat": 4,
 "nbformat_minor": 5
}
